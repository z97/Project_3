{
 "cells": [
  {
   "cell_type": "code",
   "execution_count": 2,
   "metadata": {},
   "outputs": [
    {
     "name": "stdout",
     "output_type": "stream",
     "text": [
      "Enter an integer (0 to quit): 23\n",
      "That`s a positive number.\n",
      "Enter an integer (0 to quit):-98\n",
      "That`s a negative number.\n",
      "Enter an integer (0 to quit):0\n"
     ]
    }
   ],
   "source": [
    "x = int(input('Enter an integer (0 to quit): '))\n",
    "while x != 0:\n",
    "    if x > 0:\n",
    "        print('That`s a positive number.')\n",
    "    else:\n",
    "        print('That`s a negative number.')\n",
    "    x = int(input('Enter an integer (0 to quit):'))"
   ]
  },
  {
   "cell_type": "code",
   "execution_count": null,
   "metadata": {},
   "outputs": [],
   "source": [
    "limit = int(input('Enter an integer:'))\n",
    "print('The muliples of 3 up to and including', limit, 'are:')\n",
    "for i in range(3, limit + 1,  3):\n",
    "    print(i)"
   ]
  },
  {
   "cell_type": "code",
   "execution_count": null,
   "metadata": {},
   "outputs": [
    {
     "name": "stdout",
     "output_type": "stream",
     "text": [
      "Enter a message (blank to quit):8\n",
      "How many times should it be repeated?8\n",
      "8\n",
      "8\n",
      "8\n",
      "8\n",
      "8\n",
      "8\n",
      "8\n",
      "8\n"
     ]
    }
   ],
   "source": [
    "message = input('Enter a message (blank to quit):')\n",
    "while message != '':\n",
    "    n = int(input('How many times should it be repeated?'))\n",
    "    for i in range(n):\n",
    "        print(message)\n",
    "    message = input('Enter a message (blank to quit):')"
   ]
  },
  {
   "cell_type": "markdown",
   "metadata": {},
   "source": [
    "# 63"
   ]
  },
  {
   "cell_type": "code",
   "execution_count": 6,
   "metadata": {},
   "outputs": [
    {
     "name": "stdout",
     "output_type": "stream",
     "text": [
      "Enter numbers (0 for exit):9\n",
      "Enter numbers (0 for exit):8\n",
      "Enter numbers (0 for exit):7\n",
      "Enter numbers (0 for exit):0\n",
      "Average is: 8.0\n"
     ]
    }
   ],
   "source": [
    "average = int(input('Enter numbers (0 for exit):'))\n",
    "n = 0\n",
    "sum2 = 0\n",
    "while average != 0:\n",
    "    sum2 += average \n",
    "    n += 1\n",
    "    average = int(input('Enter numbers (0 for exit):'))\n",
    "print('Average is:' ,(sum2 / n))"
   ]
  },
  {
   "cell_type": "markdown",
   "metadata": {},
   "source": [
    "# 64"
   ]
  },
  {
   "cell_type": "code",
   "execution_count": null,
   "metadata": {},
   "outputs": [
    {
     "name": "stdout",
     "output_type": "stream",
     "text": [
      "Regular price:9.65\n",
      "Regular price: 9.65 $\n",
      "Discount price: 5.79 $\n",
      "==========\n",
      "Regular price:8.43\n",
      "Regular price: 8.43 $\n",
      "Discount price: 5.06 $\n",
      "==========\n"
     ]
    }
   ],
   "source": [
    "a = float(input('Regular price:'))\n",
    "while a != 0:\n",
    "    b = a * 0.6\n",
    "    print('Regular price:', '{:.2f}'.format(a), '$')\n",
    "    print('Discount price:', '{:.2f}'.format(b), '$')\n",
    "    print('==========')\n",
    "    a = float(input('Regular price:'))\n",
    "    "
   ]
  },
  {
   "cell_type": "markdown",
   "metadata": {},
   "source": [
    "# 65"
   ]
  },
  {
   "cell_type": "code",
   "execution_count": 2,
   "metadata": {},
   "outputs": [
    {
     "name": "stdout",
     "output_type": "stream",
     "text": [
      "Celsius || Fahrenheit\n",
      "0     || 32.0\n",
      "10     || 50.0\n",
      "20     || 68.0\n",
      "30     || 86.0\n",
      "40     || 104.0\n",
      "50     || 122.0\n",
      "60     || 140.0\n",
      "70     || 158.0\n",
      "80     || 176.0\n",
      "90     || 194.0\n",
      "100     || 212.0\n"
     ]
    }
   ],
   "source": [
    "c = 0\n",
    "print('Celsius || Fahrenheit')\n",
    "while c <= 100:\n",
    "    f = (c * 9 / 5) + 32\n",
    "    print(c,'   ','||',f)\n",
    "    c += 10"
   ]
  },
  {
   "cell_type": "markdown",
   "metadata": {},
   "source": [
    "# 66"
   ]
  },
  {
   "cell_type": "code",
   "execution_count": 11,
   "metadata": {},
   "outputs": [
    {
     "name": "stdout",
     "output_type": "stream",
     "text": [
      "Enter pennies:98\n",
      "Enter:76\n",
      "Enter:54\n",
      "Enter:\n",
      "cash is: 230 pennies\n"
     ]
    }
   ],
   "source": [
    "a = input('Enter pennies:')\n",
    "sum2 = 0\n",
    "while a != '':\n",
    "    a = int(a)\n",
    "    sum2 += a\n",
    "    a = input('Enter:')\n",
    "if sum2 % 5 < 2.5:\n",
    "    b = sum2 % 5\n",
    "    sum2 -= b\n",
    "    print('cash is:', sum2, 'pennies')\n",
    "else:\n",
    "    b = sum2 % 5\n",
    "    sum2 -= b\n",
    "    sum2 += 5\n",
    "    print('cash is:', sum2, 'pennies')"
   ]
  },
  {
   "cell_type": "markdown",
   "metadata": {},
   "source": [
    "# 67"
   ]
  },
  {
   "cell_type": "code",
   "execution_count": 16,
   "metadata": {},
   "outputs": [
    {
     "name": "stdout",
     "output_type": "stream",
     "text": [
      "Enter the first x-coordinates: 9\n",
      "Enter the first y-coordinates: 78\n",
      "Enter the next x-coordinate (blank to quit):8\n",
      "Enter the next y-coordinate:7\n",
      "Enter the next x-coordinate (blank to quit):\n",
      "The perrimeter of that polygon is 72.42125546668002\n"
     ]
    }
   ],
   "source": [
    "from math import sqrt\n",
    "perimeter = 0\n",
    "first_x = float(input('Enter the first x-coordinates: '))\n",
    "first_y = float(input('Enter the first y-coordinates: '))\n",
    "prev_x = fx\n",
    "prev_y = fy\n",
    "line = input('Enter the next x-coordinate (blank to quit):')\n",
    "while line != '':\n",
    "    x = float(line)\n",
    "    y = float(input('Enter the next y-coordinate:'))\n",
    "    dist = sqrt((prev_x - x) ** 2 + (prev_y -y) ** 2)\n",
    "    perimeter += dist\n",
    "    prev_x = x\n",
    "    prev_y = y\n",
    "    line = input('Enter the next x-coordinate (blank to quit):')\n",
    "dist = sqrt((first_x - x) ** 2 + (first_y - y) ** 2)\n",
    "perimeter += dist\n",
    "print('The perrimeter of that polygon is', perimeter)"
   ]
  },
  {
   "cell_type": "markdown",
   "metadata": {},
   "source": [
    "# 68"
   ]
  },
  {
   "cell_type": "code",
   "execution_count": 18,
   "metadata": {},
   "outputs": [
    {
     "name": "stdout",
     "output_type": "stream",
     "text": [
      "Enter letter:A+\n",
      "Enter letter:B\n",
      "Enter letter:C+\n",
      "Enter letter:\n",
      "Average Grade Point is: 3.1\n"
     ]
    }
   ],
   "source": [
    "sum2 = 0\n",
    "n = 0\n",
    "letter = input('Enter letter:')\n",
    "while letter != '':\n",
    "    if letter == 'A+':\n",
    "        grade_point = 4.0\n",
    "    elif letter == 'A':\n",
    "        grade_point = 4.0\n",
    "    elif letter == 'A-':\n",
    "        grade_point = 3.7\n",
    "    elif letter == 'B+':\n",
    "        grade_point = 3.3\n",
    "    elif letter == 'B':\n",
    "        grade_point = 3.0\n",
    "    elif letter == 'B-':\n",
    "        grade_point = 2.7\n",
    "    elif letter == 'C+':\n",
    "        grade_point = 2.3\n",
    "    elif letter == 'C':\n",
    "        grade_point = 2.0\n",
    "    elif letter == 'C-':\n",
    "        grade_point = 1.7\n",
    "    elif letter == 'D+':\n",
    "        grade_point = 1.3\n",
    "    elif letter == 'D':\n",
    "        grade_point = 1.0\n",
    "    elif letter == 'F':\n",
    "        grade_point = 0\n",
    "    sum2 += grade_point\n",
    "    n += 1\n",
    "    letter = input('Enter letter:')\n",
    "print('Average Grade Point is:', (sum2 / n))"
   ]
  },
  {
   "cell_type": "markdown",
   "metadata": {},
   "source": [
    "# 69"
   ]
  },
  {
   "cell_type": "code",
   "execution_count": 5,
   "metadata": {},
   "outputs": [
    {
     "name": "stdout",
     "output_type": "stream",
     "text": [
      "Age:9\n",
      "Age:7\n",
      "Age:5\n",
      "Age:77\n",
      "Age:87\n",
      "Age:\n",
      "Sum price is: 78.00 $\n"
     ]
    }
   ],
   "source": [
    "age = input('Age:')\n",
    "sum2 = 0\n",
    "while age != '':\n",
    "    age = int(age)\n",
    "    if age <= 2:\n",
    "        sum2 += 0\n",
    "    elif 3 <= age <= 12:\n",
    "        sum2 += 14\n",
    "    elif 13 <= age < 65:\n",
    "        sum2 += 23\n",
    "    elif 65 <= age:\n",
    "        sum2 += 18\n",
    "    age = input('Age:')\n",
    "print('Sum price is:', '{:.2f}'.format(sum2), '$')"
   ]
  }
 ],
 "metadata": {
  "kernelspec": {
   "display_name": "Python 3",
   "language": "python",
   "name": "python3"
  }
 },
 "nbformat": 4,
 "nbformat_minor": 2
}
