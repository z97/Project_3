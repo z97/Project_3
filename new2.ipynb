{
 "cells": [
  {
   "cell_type": "markdown",
   "metadata": {},
   "source": [
    "A man moves to Israel and is looking for a city in which he will be able to quickly pay mortgages for an apartment. Therefore, he takes two variables, the average salary in the city, and the average price of a three-room apartment and divides it among themselves. He takes the data from the Central Statistical Bureau (https://data.gov.il/dataset/https-www-cbs-gov-il-he-mediarelease-doclib-2019-057-24_19_057t1-xlsx) . For graphics he uses seaborn. salary data for women and men are in the different columns so the table is four columns. Also a small piece of code changes the arrangement of letters in the names of the city, since Hebrew is written from right to left, but is read in python in reverse. The results are such: in the northern suburbs of Haifa and Bersheva, the price of real estate allows him to buy it for 7 years and this is the minimum figure in Israel. Jerusalem is over 20, and Tel Aviv is over 16 years. It follows from this that only in a well-paid job can him afford to live in these large cities. "
   ]
  },
  {
   "cell_type": "code",
   "execution_count": null,
   "metadata": {},
   "outputs": [],
   "source": [
    "import matplotlib.pyplot as plt\n",
    "import pandas as pd\n",
    "import seaborn as sns\n",
    "\n",
    "df = pd.read_excel(\"3_2.xlsx\")\n",
    "x = df['average 2b flat price'].astype(float)\n",
    "y_m = df['man'].astype(float)\n",
    "y_f = df['woman'].astype(float)\n",
    "df['ratio_man'] = x / y_m\n",
    "df['ratio_female'] = x / y_f\n",
    "t = df['city']\n",
    "t_list = t.tolist()\n",
    "reversed_strings = [x[::-1] for x in t_list]\n",
    "df['city2'] = pd.DataFrame(reversed_strings) "
   ]
  },
  {
   "cell_type": "code",
   "execution_count": null,
   "metadata": {},
   "outputs": [],
   "source": [
    "sns.set(style=\"whitegrid\")\n",
    "f, ax = plt.subplots(figsize=(8, 12))\n",
    "\n",
    "sns.set_color_codes(\"pastel\")\n",
    "sns.barplot(x=df[\"ratio_female\"], y=df[\"city2\"], data=crashes,\n",
    "    label=\"woman\", color=\"b\")\n",
    "\n",
    "sns.set_color_codes(\"muted\")\n",
    "sns.barplot(x=df[\"ratio_man\"], y=df[\"city2\"], data=crashes,\n",
    "            label=\"man\", color=\"b\")\n",
    "\n",
    "ax.legend(ncol=1, loc=\"lower right\", frameon=True)\n",
    "ax.set(ylabel=\"\",\n",
    "       xlabel=\"amount of month\")\n",
    "ax.set_title('Amount of average monthly salaries in the price of 2 bedroom apartment by city')\n",
    "sns.despine(left=True, bottom=True)\n",
    "\n",
    "for  p in ax.patches:\n",
    "    width = p.get_width()\n",
    "    ax.text(width + 9  ,\n",
    "            p.get_y()+p.get_height()/2. + 0.2,\n",
    "            '{:1.0f}'.format(width),\n",
    "            ha=\"center\")"
   ]
  }
 ],
 "metadata": {
  "kernelspec": {
   "display_name": "Python 3",
   "language": "python",
   "name": "python3"
  },
  "language_info": {
   "codemirror_mode": {
    "name": "ipython",
    "version": 3
   },
   "file_extension": ".py",
   "mimetype": "text/x-python",
   "name": "python",
   "nbconvert_exporter": "python",
   "pygments_lexer": "ipython3",
   "version": "3.7.3"
  }
 },
 "nbformat": 4,
 "nbformat_minor": 2
}
